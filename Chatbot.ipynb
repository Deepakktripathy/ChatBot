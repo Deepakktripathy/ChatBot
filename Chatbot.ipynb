{
  "nbformat": 4,
  "nbformat_minor": 0,
  "metadata": {
    "colab": {
      "provenance": []
    },
    "kernelspec": {
      "name": "python3",
      "display_name": "Python 3"
    },
    "language_info": {
      "name": "python"
    }
  },
  "cells": [
    {
      "cell_type": "code",
      "execution_count": 2,
      "metadata": {
        "colab": {
          "base_uri": "https://localhost:8080/"
        },
        "id": "FrhnkYz8ZOIv",
        "outputId": "b2b70a34-5f02-4eda-cd12-fe01d1c98b98"
      },
      "outputs": [
        {
          "output_type": "stream",
          "name": "stdout",
          "text": [
            "Mounted at /content/drive\n"
          ]
        }
      ],
      "source": [
        "from google.colab import drive\n",
        "drive.mount('/content/drive')\n",
        "data_root = '/content/drive/My Drive/Chatbot'"
      ]
    },
    {
      "cell_type": "code",
      "source": [
        "import json\n",
        "import string\n",
        "import random\n",
        "import nltk\n",
        "import numpy as np\n",
        "from nltk.stem import WordNetLemmatizer\n",
        "import tensorflow as tf\n",
        "from tensorflow.keras import Sequential\n",
        "from tensorflow.keras.layers import Dense, Dropout\n",
        "nltk.download('punkt')\n",
        "nltk.download('wordnet')"
      ],
      "metadata": {
        "colab": {
          "base_uri": "https://localhost:8080/"
        },
        "id": "gGD-J44_ZlEE",
        "outputId": "d0172ef5-8d1a-47b4-cc23-2c63bdc0928a"
      },
      "execution_count": 3,
      "outputs": [
        {
          "output_type": "stream",
          "name": "stderr",
          "text": [
            "[nltk_data] Downloading package punkt to /root/nltk_data...\n",
            "[nltk_data]   Unzipping tokenizers/punkt.zip.\n",
            "[nltk_data] Downloading package wordnet to /root/nltk_data...\n"
          ]
        },
        {
          "output_type": "execute_result",
          "data": {
            "text/plain": [
              "True"
            ]
          },
          "metadata": {},
          "execution_count": 3
        }
      ]
    },
    {
      "cell_type": "code",
      "source": [
        "data_file = open(data_root + '/intents.json').read()\n",
        "data = json.loads(data_file)"
      ],
      "metadata": {
        "id": "OWmpdfbAacXy"
      },
      "execution_count": 5,
      "outputs": []
    },
    {
      "cell_type": "code",
      "source": [
        "words = []\n",
        "classes = []\n",
        "data_X = []\n",
        "data_y = []\n",
        "\n",
        "for intent in data[\"intents\"]:\n",
        "  for pattern in intent[\"patterns\"]:\n",
        "    tokens = nltk.word_tokenize(pattern)\n",
        "    words.extend(tokens)\n",
        "    data_X.append(pattern)\n",
        "    data_y.append(intent[\"tag\"])\n",
        "\n",
        "  if intent[\"tag\"] not in classes:\n",
        "    classes.append(intent[\"tag\"])\n",
        "\n",
        "lemmatizer = WordNetLemmatizer()\n",
        "words = [lemmatizer.lemmatize(word.lower()) for word in words if word not in string.punctuation]\n",
        "words = sorted(set(words))\n",
        "classes = sorted(set(classes))"
      ],
      "metadata": {
        "id": "RY3grPR8an6C"
      },
      "execution_count": 7,
      "outputs": []
    },
    {
      "cell_type": "code",
      "source": [
        "training = []\n",
        "out_empty = [0] * len(classes)\n",
        "\n",
        "for idx, doc in enumerate(data_X):\n",
        "  bow = []\n",
        "  text = lemmatizer.lemmatize(doc.lower())\n",
        "  for word in words:\n",
        "    bow.append(1) if word in text else bow.append(0)\n",
        "\n",
        "  output_row = list(out_empty)\n",
        "  output_row[classes.index(data_y[idx])] = 1\n",
        "  training.append([bow, output_row])\n",
        "\n",
        "random.shuffle(training)\n",
        "training = np.array(training, dtype = object)\n",
        "train_X = np.array(list(training[:, 0]))\n",
        "train_y = np.array(list(training[:, 1]))"
      ],
      "metadata": {
        "id": "gyHptnLMazid"
      },
      "execution_count": 8,
      "outputs": []
    },
    {
      "cell_type": "code",
      "source": [
        "model = Sequential()\n",
        "model.add(Dense(128, input_shape = (len(train_X[0]), ), activation = \"relu\"))\n",
        "model.add(Dropout(0.5))\n",
        "model.add(Dense(64, activation = \"relu\"))\n",
        "model.add(Dropout(0.5))\n",
        "model.add(Dense(len(train_y[0]), activation = \"softmax\"))\n",
        "adam = tf.keras.optimizers.legacy.Adam(learning_rate = 0.001, decay = 1e-6)\n",
        "model.compile(loss= \"categorical_crossentropy\",\n",
        "              optimizer = adam,\n",
        "              metrics = [\"accuracy\"])\n",
        "print(model.summary())\n",
        "model.fit(x = train_X, y = train_y, epochs = 100, verbose = 1)\n"
      ],
      "metadata": {
        "colab": {
          "base_uri": "https://localhost:8080/"
        },
        "id": "KDjxwbuKdLpX",
        "outputId": "9244a208-b592-4ef0-d7e2-14bba8c534fa"
      },
      "execution_count": 18,
      "outputs": [
        {
          "output_type": "stream",
          "name": "stdout",
          "text": [
            "Model: \"sequential_8\"\n",
            "_________________________________________________________________\n",
            " Layer (type)                Output Shape              Param #   \n",
            "=================================================================\n",
            " dense_22 (Dense)            (None, 128)               7552      \n",
            "                                                                 \n",
            " dropout_14 (Dropout)        (None, 128)               0         \n",
            "                                                                 \n",
            " dense_23 (Dense)            (None, 64)                8256      \n",
            "                                                                 \n",
            " dropout_15 (Dropout)        (None, 64)                0         \n",
            "                                                                 \n",
            " dense_24 (Dense)            (None, 16)                1040      \n",
            "                                                                 \n",
            "=================================================================\n",
            "Total params: 16848 (65.81 KB)\n",
            "Trainable params: 16848 (65.81 KB)\n",
            "Non-trainable params: 0 (0.00 Byte)\n",
            "_________________________________________________________________\n",
            "None\n",
            "Epoch 1/100\n",
            "2/2 [==============================] - 1s 18ms/step - loss: 2.8881 - accuracy: 0.0244\n",
            "Epoch 2/100\n",
            "2/2 [==============================] - 0s 10ms/step - loss: 2.6323 - accuracy: 0.1220\n",
            "Epoch 3/100\n",
            "2/2 [==============================] - 0s 19ms/step - loss: 2.5683 - accuracy: 0.1707\n",
            "Epoch 4/100\n",
            "2/2 [==============================] - 0s 24ms/step - loss: 2.5306 - accuracy: 0.2195\n",
            "Epoch 5/100\n",
            "2/2 [==============================] - 0s 15ms/step - loss: 2.2704 - accuracy: 0.3171\n",
            "Epoch 6/100\n",
            "2/2 [==============================] - 0s 22ms/step - loss: 2.0803 - accuracy: 0.4390\n",
            "Epoch 7/100\n",
            "2/2 [==============================] - 0s 21ms/step - loss: 1.9149 - accuracy: 0.5610\n",
            "Epoch 8/100\n",
            "2/2 [==============================] - 0s 24ms/step - loss: 1.7965 - accuracy: 0.4878\n",
            "Epoch 9/100\n",
            "2/2 [==============================] - 0s 12ms/step - loss: 1.5474 - accuracy: 0.5854\n",
            "Epoch 10/100\n",
            "2/2 [==============================] - 0s 10ms/step - loss: 1.4424 - accuracy: 0.5854\n",
            "Epoch 11/100\n",
            "2/2 [==============================] - 0s 11ms/step - loss: 1.5109 - accuracy: 0.4878\n",
            "Epoch 12/100\n",
            "2/2 [==============================] - 0s 12ms/step - loss: 1.2722 - accuracy: 0.5854\n",
            "Epoch 13/100\n",
            "2/2 [==============================] - 0s 11ms/step - loss: 1.1459 - accuracy: 0.6098\n",
            "Epoch 14/100\n",
            "2/2 [==============================] - 0s 12ms/step - loss: 1.1006 - accuracy: 0.6098\n",
            "Epoch 15/100\n",
            "2/2 [==============================] - 0s 10ms/step - loss: 0.9322 - accuracy: 0.6585\n",
            "Epoch 16/100\n",
            "2/2 [==============================] - 0s 13ms/step - loss: 0.8551 - accuracy: 0.6585\n",
            "Epoch 17/100\n",
            "2/2 [==============================] - 0s 9ms/step - loss: 0.6568 - accuracy: 0.8293\n",
            "Epoch 18/100\n",
            "2/2 [==============================] - 0s 12ms/step - loss: 0.5668 - accuracy: 0.8537\n",
            "Epoch 19/100\n",
            "2/2 [==============================] - 0s 8ms/step - loss: 0.7749 - accuracy: 0.7805\n",
            "Epoch 20/100\n",
            "2/2 [==============================] - 0s 11ms/step - loss: 0.6716 - accuracy: 0.7805\n",
            "Epoch 21/100\n",
            "2/2 [==============================] - 0s 10ms/step - loss: 0.5685 - accuracy: 0.7561\n",
            "Epoch 22/100\n",
            "2/2 [==============================] - 0s 10ms/step - loss: 0.5469 - accuracy: 0.7805\n",
            "Epoch 23/100\n",
            "2/2 [==============================] - 0s 15ms/step - loss: 0.4945 - accuracy: 0.8049\n",
            "Epoch 24/100\n",
            "2/2 [==============================] - 0s 13ms/step - loss: 0.6462 - accuracy: 0.8049\n",
            "Epoch 25/100\n",
            "2/2 [==============================] - 0s 11ms/step - loss: 0.3518 - accuracy: 0.9024\n",
            "Epoch 26/100\n",
            "2/2 [==============================] - 0s 11ms/step - loss: 0.4431 - accuracy: 0.8537\n",
            "Epoch 27/100\n",
            "2/2 [==============================] - 0s 10ms/step - loss: 0.3947 - accuracy: 0.8780\n",
            "Epoch 28/100\n",
            "2/2 [==============================] - 0s 12ms/step - loss: 0.3772 - accuracy: 0.8780\n",
            "Epoch 29/100\n",
            "2/2 [==============================] - 0s 10ms/step - loss: 0.4346 - accuracy: 0.8780\n",
            "Epoch 30/100\n",
            "2/2 [==============================] - 0s 8ms/step - loss: 0.3951 - accuracy: 0.9024\n",
            "Epoch 31/100\n",
            "2/2 [==============================] - 0s 10ms/step - loss: 0.4651 - accuracy: 0.8780\n",
            "Epoch 32/100\n",
            "2/2 [==============================] - 0s 15ms/step - loss: 0.2333 - accuracy: 0.9268\n",
            "Epoch 33/100\n",
            "2/2 [==============================] - 0s 11ms/step - loss: 0.1986 - accuracy: 0.9512\n",
            "Epoch 34/100\n",
            "2/2 [==============================] - 0s 9ms/step - loss: 0.4161 - accuracy: 0.8537\n",
            "Epoch 35/100\n",
            "2/2 [==============================] - 0s 11ms/step - loss: 0.4029 - accuracy: 0.8537\n",
            "Epoch 36/100\n",
            "2/2 [==============================] - 0s 11ms/step - loss: 0.2993 - accuracy: 0.8780\n",
            "Epoch 37/100\n",
            "2/2 [==============================] - 0s 9ms/step - loss: 0.4187 - accuracy: 0.8780\n",
            "Epoch 38/100\n",
            "2/2 [==============================] - 0s 9ms/step - loss: 0.1691 - accuracy: 0.9512\n",
            "Epoch 39/100\n",
            "2/2 [==============================] - 0s 10ms/step - loss: 0.1797 - accuracy: 0.9268\n",
            "Epoch 40/100\n",
            "2/2 [==============================] - 0s 12ms/step - loss: 0.2418 - accuracy: 0.8780\n",
            "Epoch 41/100\n",
            "2/2 [==============================] - 0s 15ms/step - loss: 0.1957 - accuracy: 0.9756\n",
            "Epoch 42/100\n",
            "2/2 [==============================] - 0s 11ms/step - loss: 0.1832 - accuracy: 0.9512\n",
            "Epoch 43/100\n",
            "2/2 [==============================] - 0s 12ms/step - loss: 0.3018 - accuracy: 0.9024\n",
            "Epoch 44/100\n",
            "2/2 [==============================] - 0s 14ms/step - loss: 0.3040 - accuracy: 0.8780\n",
            "Epoch 45/100\n",
            "2/2 [==============================] - 0s 11ms/step - loss: 0.3094 - accuracy: 0.8780\n",
            "Epoch 46/100\n",
            "2/2 [==============================] - 0s 11ms/step - loss: 0.3232 - accuracy: 0.8780\n",
            "Epoch 47/100\n",
            "2/2 [==============================] - 0s 11ms/step - loss: 0.1206 - accuracy: 1.0000\n",
            "Epoch 48/100\n",
            "2/2 [==============================] - 0s 13ms/step - loss: 0.2497 - accuracy: 0.9268\n",
            "Epoch 49/100\n",
            "2/2 [==============================] - 0s 15ms/step - loss: 0.1274 - accuracy: 0.9512\n",
            "Epoch 50/100\n",
            "2/2 [==============================] - 0s 14ms/step - loss: 0.1856 - accuracy: 0.9512\n",
            "Epoch 51/100\n",
            "2/2 [==============================] - 0s 10ms/step - loss: 0.3823 - accuracy: 0.9024\n",
            "Epoch 52/100\n",
            "2/2 [==============================] - 0s 13ms/step - loss: 0.2684 - accuracy: 0.9268\n",
            "Epoch 53/100\n",
            "2/2 [==============================] - 0s 11ms/step - loss: 0.1997 - accuracy: 0.9512\n",
            "Epoch 54/100\n",
            "2/2 [==============================] - 0s 13ms/step - loss: 0.3602 - accuracy: 0.9024\n",
            "Epoch 55/100\n",
            "2/2 [==============================] - 0s 16ms/step - loss: 0.1910 - accuracy: 0.9268\n",
            "Epoch 56/100\n",
            "2/2 [==============================] - 0s 12ms/step - loss: 0.2580 - accuracy: 0.9512\n",
            "Epoch 57/100\n",
            "2/2 [==============================] - 0s 11ms/step - loss: 0.1690 - accuracy: 0.9268\n",
            "Epoch 58/100\n",
            "2/2 [==============================] - 0s 16ms/step - loss: 0.1891 - accuracy: 0.9268\n",
            "Epoch 59/100\n",
            "2/2 [==============================] - 0s 12ms/step - loss: 0.0901 - accuracy: 0.9756\n",
            "Epoch 60/100\n",
            "2/2 [==============================] - 0s 13ms/step - loss: 0.1114 - accuracy: 0.9756\n",
            "Epoch 61/100\n",
            "2/2 [==============================] - 0s 13ms/step - loss: 0.1585 - accuracy: 0.9512\n",
            "Epoch 62/100\n",
            "2/2 [==============================] - 0s 11ms/step - loss: 0.1205 - accuracy: 0.9756\n",
            "Epoch 63/100\n",
            "2/2 [==============================] - 0s 14ms/step - loss: 0.1592 - accuracy: 0.9512\n",
            "Epoch 64/100\n",
            "2/2 [==============================] - 0s 19ms/step - loss: 0.0541 - accuracy: 1.0000\n",
            "Epoch 65/100\n",
            "2/2 [==============================] - 0s 12ms/step - loss: 0.2223 - accuracy: 0.9024\n",
            "Epoch 66/100\n",
            "2/2 [==============================] - 0s 13ms/step - loss: 0.1561 - accuracy: 0.9268\n",
            "Epoch 67/100\n",
            "2/2 [==============================] - 0s 23ms/step - loss: 0.1256 - accuracy: 0.9512\n",
            "Epoch 68/100\n",
            "2/2 [==============================] - 0s 25ms/step - loss: 0.2971 - accuracy: 0.9024\n",
            "Epoch 69/100\n",
            "2/2 [==============================] - 0s 29ms/step - loss: 0.1144 - accuracy: 0.9756\n",
            "Epoch 70/100\n",
            "2/2 [==============================] - 0s 22ms/step - loss: 0.1392 - accuracy: 0.9268\n",
            "Epoch 71/100\n",
            "2/2 [==============================] - 0s 22ms/step - loss: 0.1921 - accuracy: 0.9512\n",
            "Epoch 72/100\n",
            "2/2 [==============================] - 0s 21ms/step - loss: 0.1989 - accuracy: 0.9512\n",
            "Epoch 73/100\n",
            "2/2 [==============================] - 0s 10ms/step - loss: 0.2058 - accuracy: 0.9024\n",
            "Epoch 74/100\n",
            "2/2 [==============================] - 0s 17ms/step - loss: 0.1317 - accuracy: 0.9268\n",
            "Epoch 75/100\n",
            "2/2 [==============================] - 0s 14ms/step - loss: 0.0735 - accuracy: 0.9512\n",
            "Epoch 76/100\n",
            "2/2 [==============================] - 0s 20ms/step - loss: 0.1958 - accuracy: 0.9268\n",
            "Epoch 77/100\n",
            "2/2 [==============================] - 0s 19ms/step - loss: 0.2171 - accuracy: 0.9268\n",
            "Epoch 78/100\n",
            "2/2 [==============================] - 0s 26ms/step - loss: 0.2190 - accuracy: 0.9268\n",
            "Epoch 79/100\n",
            "2/2 [==============================] - 0s 22ms/step - loss: 0.2610 - accuracy: 0.9268\n",
            "Epoch 80/100\n",
            "2/2 [==============================] - 0s 27ms/step - loss: 0.1095 - accuracy: 0.9756\n",
            "Epoch 81/100\n",
            "2/2 [==============================] - 0s 20ms/step - loss: 0.1502 - accuracy: 0.9268\n",
            "Epoch 82/100\n",
            "2/2 [==============================] - 0s 24ms/step - loss: 0.1869 - accuracy: 0.9024\n",
            "Epoch 83/100\n",
            "2/2 [==============================] - 0s 19ms/step - loss: 0.1417 - accuracy: 0.9512\n",
            "Epoch 84/100\n",
            "2/2 [==============================] - 0s 20ms/step - loss: 0.1577 - accuracy: 0.9512\n",
            "Epoch 85/100\n",
            "2/2 [==============================] - 0s 23ms/step - loss: 0.1129 - accuracy: 0.9512\n",
            "Epoch 86/100\n",
            "2/2 [==============================] - 0s 34ms/step - loss: 0.1845 - accuracy: 0.9512\n",
            "Epoch 87/100\n",
            "2/2 [==============================] - 0s 27ms/step - loss: 0.1435 - accuracy: 0.9268\n",
            "Epoch 88/100\n",
            "2/2 [==============================] - 0s 27ms/step - loss: 0.2378 - accuracy: 0.9512\n",
            "Epoch 89/100\n",
            "2/2 [==============================] - 0s 25ms/step - loss: 0.2199 - accuracy: 0.9268\n",
            "Epoch 90/100\n",
            "2/2 [==============================] - 0s 27ms/step - loss: 0.1183 - accuracy: 0.9512\n",
            "Epoch 91/100\n",
            "2/2 [==============================] - 0s 22ms/step - loss: 0.1505 - accuracy: 0.9756\n",
            "Epoch 92/100\n",
            "2/2 [==============================] - 0s 19ms/step - loss: 0.1402 - accuracy: 0.9512\n",
            "Epoch 93/100\n",
            "2/2 [==============================] - 0s 22ms/step - loss: 0.2549 - accuracy: 0.9268\n",
            "Epoch 94/100\n",
            "2/2 [==============================] - 0s 16ms/step - loss: 0.1177 - accuracy: 0.9756\n",
            "Epoch 95/100\n",
            "2/2 [==============================] - 0s 18ms/step - loss: 0.1304 - accuracy: 0.9268\n",
            "Epoch 96/100\n",
            "2/2 [==============================] - 0s 15ms/step - loss: 0.0741 - accuracy: 0.9756\n",
            "Epoch 97/100\n",
            "2/2 [==============================] - 0s 14ms/step - loss: 0.1208 - accuracy: 0.9268\n",
            "Epoch 98/100\n",
            "2/2 [==============================] - 0s 16ms/step - loss: 0.2061 - accuracy: 0.9512\n",
            "Epoch 99/100\n",
            "2/2 [==============================] - 0s 14ms/step - loss: 0.0639 - accuracy: 0.9756\n",
            "Epoch 100/100\n",
            "2/2 [==============================] - 0s 12ms/step - loss: 0.1476 - accuracy: 0.9512\n"
          ]
        },
        {
          "output_type": "execute_result",
          "data": {
            "text/plain": [
              "<keras.src.callbacks.History at 0x7bb33e6abdf0>"
            ]
          },
          "metadata": {},
          "execution_count": 18
        }
      ]
    },
    {
      "cell_type": "code",
      "source": [
        "def clean_text(text):\n",
        "  tokens = nltk.word_tokenize(text)\n",
        "  tokens = [lemmatizer.lemmatize(word) for word in tokens]\n",
        "  return tokens\n",
        "\n",
        "def bag_of_words(text, vocab):\n",
        "  tokens = clean_text(text)\n",
        "  bow = [0] * len(vocab)\n",
        "  for w in tokens:\n",
        "    for idx, word in enumerate(vocab):\n",
        "      if word == w:\n",
        "        bow[idx] = 1\n",
        "  return np.array(bow)\n",
        "\n",
        "def pred_class(text, vocab, levels):\n",
        "  bow = bag_of_words(text, vocab)\n",
        "  result = model.predict(np.array([bow]))[0]\n",
        "  thresh = 0.5\n",
        "  y_pred = [[indx, res] for indx, res in enumerate(result) if res > thresh]\n",
        "  y_pred.sort(key = lambda x: x [1], reverse = True)\n",
        "  return_list = []\n",
        "  for r in y_pred:\n",
        "    return_list.append(classes[r[0]])\n",
        "  return return_list\n"
      ],
      "metadata": {
        "id": "hWtWsswneVwJ"
      },
      "execution_count": 29,
      "outputs": []
    },
    {
      "cell_type": "code",
      "source": [
        "def get_response(intents_list, intents_json):\n",
        "  if len(intents_list) == 0:\n",
        "    result = \"Sorry! I do not understand\"\n",
        "  else:\n",
        "    tag = intents_list[0]\n",
        "    list_of_intents = intents_json[\"intents\"]\n",
        "    for i in list_of_intents:\n",
        "      if i[\"tag\"] == tag:\n",
        "        result = random.choice(i[\"responses\"])\n",
        "        break\n",
        "  return result"
      ],
      "metadata": {
        "id": "mfbxL4WWhehk"
      },
      "execution_count": 30,
      "outputs": []
    },
    {
      "cell_type": "code",
      "source": [
        "print(\"Press 0 if you want to stop talking to the chatbot\")\n",
        "while True:\n",
        "  message = input(\" \")\n",
        "  if message == \"0\":\n",
        "    break\n",
        "  intents = pred_class(message, words, classes)\n",
        "  result = get_response(intents, data)\n",
        "  print(result)\n"
      ],
      "metadata": {
        "colab": {
          "base_uri": "https://localhost:8080/"
        },
        "id": "ZAL-Yrizhxcv",
        "outputId": "3b47023d-ba78-403d-da23-a3db1be33946"
      },
      "execution_count": 33,
      "outputs": [
        {
          "name": "stdout",
          "output_type": "stream",
          "text": [
            "Press 0 if you want to stop talking to the chatbot\n",
            " 0\n"
          ]
        }
      ]
    },
    {
      "cell_type": "code",
      "source": [],
      "metadata": {
        "id": "vOrYusNUihRf"
      },
      "execution_count": null,
      "outputs": []
    }
  ]
}